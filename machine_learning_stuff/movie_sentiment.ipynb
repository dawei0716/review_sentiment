{
 "cells": [
  {
   "cell_type": "code",
   "execution_count": 1,
   "metadata": {},
   "outputs": [],
   "source": [
    "import glob\n",
    "import math\n",
    "import pickle\n",
    "from stopwords import stops"
   ]
  },
  {
   "cell_type": "code",
   "execution_count": 5,
   "metadata": {},
   "outputs": [],
   "source": [
    "\n",
    "smooth_poswordprobs = {}\n",
    "smooth_negwordprobs = {}"
   ]
  },
  {
   "cell_type": "code",
   "execution_count": 20,
   "metadata": {},
   "outputs": [],
   "source": [
    "def read_in_training_data():\n",
    "    positivewords = []\n",
    "    allpos = glob.glob(\"pos/*\")\n",
    "    for filename in allpos:\n",
    "        f = open(filename)\n",
    "        thesewords = set()\n",
    "        for line in f:\n",
    "            words = line.rstrip().split()\n",
    "            for w in words:\n",
    "                if w not in stops:\n",
    "                    thesewords.add(w)\n",
    "        f.close()\n",
    "        positivewords.extend(list(thesewords))\n",
    "    \n",
    "#     print(len(positivewords), \"positive tokens found!\")\n",
    "#     print(len(set(positivewords)), \"positive types found!\")\n",
    "    \n",
    "    negativewords = []\n",
    "    allneg = glob.glob(\"neg/*\")\n",
    "    for filename in allneg:\n",
    "        f = open(filename)\n",
    "        thesewords = set()\n",
    "        for line in f:\n",
    "            words = line.rstrip().split()\n",
    "            for w in words:\n",
    "                if w not in stops:\n",
    "                    thesewords.add(w)\n",
    "        f.close()\n",
    "        negativewords.extend(list(thesewords))    \n",
    "#     print(len(negativewords), \"negative tokens found!\")\n",
    "#     print(len(set(negativewords)), \"negative types found!\")\n",
    "\n",
    "    pickle.dump(positivewords,open('pickleData/poswords.pickle','wb'))\n",
    "    pickle.dump(negativewords,open('pickleData/negwords.pickle','wb'))\n",
    "    \n",
    "    \n",
    "    return\n",
    "\n",
    "\n",
    "read_in_training_data()"
   ]
  },
  {
   "cell_type": "code",
   "execution_count": 17,
   "metadata": {},
   "outputs": [],
   "source": [
    "def calculate_smooth_nb_probabilities():\n",
    "\n",
    "    poswords = pickle.load(open('pickleData/poswords.pickle','rb'))\n",
    "    negwords = pickle.load(open('pickleData/negwords.pickle','rb'))\n",
    "    \n",
    "    \n",
    "    posFdist = FreqDist(poswords)\n",
    "    negFdist = FreqDist(negwords)\n",
    "    posTypes = posFdist.most_common()\n",
    "    negTypes = negFdist.most_common()\n",
    "    \n",
    "    # +1 smoothing to can handle unseen words.\n",
    "    for word in posTypes:\n",
    "        smooth_poswordprobs[word[0]] = math.log((word[1]+1)/(len(poswords)+len(posTypes)+ 1))\n",
    "    for word in negTypes:\n",
    "        smooth_negwordprobs[word[0]] = math.log((word[1]+1)/(len(negwords)+len(negTypes)+ 1))\n",
    "     \n",
    "    pickle.dump(smooth_poswordprobs,open('pickleData/poswordprobs.pickle','wb'))\n",
    "    pickle.dump(smooth_negwordprobs,open('pickleData/negwordprobs.pickle','wb'))\n",
    "\n",
    "    return\n",
    "\n",
    "calculate_smooth_nb_probabilities()\n"
   ]
  },
  {
   "cell_type": "code",
   "execution_count": 18,
   "metadata": {},
   "outputs": [],
   "source": [
    "def smooth_naive_bayes(reviewwords):\n",
    "\n",
    "    posscore = 0\n",
    "    negscore = 0\n",
    "    \n",
    "    poswords = pickle.load(open('pickleData/poswords.pickle','rb'))\n",
    "    negwords = pickle.load(open('pickleData/negwords.pickle','rb'))\n",
    "    \n",
    "    posdefaultprob = math.log(1/(len(poswords)+len(set(poswords))+ 1))\n",
    "    negdefaultprob = math.log(1/(len(negwords)+len(set(negwords))+ 1))\n",
    "    \n",
    "    smooth_poswordprobs = pickle.load(open('pickleData/poswordprobs.pickle','rb'))\n",
    "    smooth_negwordprobs = pickle.load(open('pickleData/negwordprobs.pickle','rb'))\n",
    "\n",
    "    posscore = smooth_poswordprobs.get(reviewwords[0], posdefaultprob)\n",
    "    for i in range(1, len(reviewwords)):\n",
    "        posscore += smooth_poswordprobs.get(reviewwords[i], posdefaultprob)\n",
    "\n",
    "\n",
    "    negscore = smooth_negwordprobs.get(reviewwords[0], negdefaultprob)\n",
    "    for i in range(1, len(reviewwords)):\n",
    "        negscore += smooth_negwordprobs.get(reviewwords[i], negdefaultprob)\n",
    "\n",
    "   \n",
    "    if (posscore - negscore) >  0:\n",
    "        return \"pos\"\n",
    "\n",
    "    return \"neg\""
   ]
  },
  {
   "cell_type": "code",
   "execution_count": 19,
   "metadata": {},
   "outputs": [
    {
     "name": "stdout",
     "output_type": "stream",
     "text": [
      "accuracy:  0.845\n"
     ]
    }
   ],
   "source": [
    "import re\n",
    "def calculate_accuracy():\n",
    "    smnbcorrect = 0\n",
    "\n",
    "    # read in the test reviews\n",
    "    testdata = glob.glob(\"test/*\")\n",
    "    for filename in testdata:\n",
    "        wholereview = \"\"\n",
    "        reviewwords = []\n",
    "        with open(filename, encoding='utf8') as f:\n",
    "            wholereview = f.read().rstrip()\n",
    "        words = set(wholereview.split())\n",
    "        for w in words:\n",
    "            if w not in stops:\n",
    "                reviewwords.append(w)\n",
    "            \n",
    "        filepolarity = re.sub(r\"^.*?(pos|neg)-.*?$\", r\"\\1\", filename)\n",
    "\n",
    "        if filepolarity == smooth_naive_bayes(reviewwords):\n",
    "            smnbcorrect += 1\n",
    "     \n",
    "\n",
    "    print(\"accuracy: \", (smnbcorrect/200))\n",
    "calculate_accuracy()"
   ]
  },
  {
   "cell_type": "code",
   "execution_count": null,
   "metadata": {},
   "outputs": [],
   "source": []
  }
 ],
 "metadata": {
  "kernelspec": {
   "display_name": "Python 3",
   "language": "python",
   "name": "python3"
  },
  "language_info": {
   "codemirror_mode": {
    "name": "ipython",
    "version": 3
   },
   "file_extension": ".py",
   "mimetype": "text/x-python",
   "name": "python",
   "nbconvert_exporter": "python",
   "pygments_lexer": "ipython3",
   "version": "3.7.6"
  }
 },
 "nbformat": 4,
 "nbformat_minor": 4
}
